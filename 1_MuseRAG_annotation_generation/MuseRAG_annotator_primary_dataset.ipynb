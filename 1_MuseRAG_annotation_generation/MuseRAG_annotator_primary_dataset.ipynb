{
 "cells": [
  {
   "cell_type": "code",
   "execution_count": null,
   "id": "108e0f6b",
   "metadata": {},
   "outputs": [],
   "source": [
    "from utils import *"
   ]
  },
  {
   "cell_type": "code",
   "execution_count": null,
   "id": "da88536e",
   "metadata": {},
   "outputs": [],
   "source": [
    "if __name__ == \"__main__\":\n",
    "    # set only these seven variables\n",
    "    study_prefix = \"simpl_prmpt\" # keep within 10 characters\n",
    "    llm_index = 2 # options are 1: 'llama3.3:70b-Instruct', 2: 'phi4', 3: 'qwen3'\n",
    "    prompt_index = 2 # options are 1: 'baseline', 2: 'CoT'. For qwen, the baseline itself is COT\n",
    "    embedding_index = 2 # options are  1: \"mixedbread-ai/mxbai-embed-large-v1\", 2: \"intfloat/e5-large-v2\", 3: \"all-mpnet-base-v2\", 4: \"BAAI/bge-large-en-v1.5\" \n",
    "    comparison_k = 10 # choose K_c\n",
    "    replication_id = 6 # seed for reordering the input idea file\n",
    "    object_names = [\"shoe\", \"button\", \"key\", \"wooden_pencil\", \"automobile_tire\"]\n",
    "\n",
    "    muserag(study_prefix,llm_index,prompt_index,embedding_index,comparison_k,replication_id,object_names)"
   ]
  },
  {
   "cell_type": "code",
   "execution_count": null,
   "id": "4bba2f90",
   "metadata": {},
   "outputs": [],
   "source": []
  }
 ],
 "metadata": {
  "kernelspec": {
   "display_name": "Python 3 (ipykernel)",
   "language": "python",
   "name": "python3"
  },
  "language_info": {
   "codemirror_mode": {
    "name": "ipython",
    "version": 3
   },
   "file_extension": ".py",
   "mimetype": "text/x-python",
   "name": "python",
   "nbconvert_exporter": "python",
   "pygments_lexer": "ipython3",
   "version": "3.9.7"
  }
 },
 "nbformat": 4,
 "nbformat_minor": 5
}
