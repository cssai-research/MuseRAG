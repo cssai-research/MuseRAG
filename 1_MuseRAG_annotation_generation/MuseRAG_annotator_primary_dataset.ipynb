{
 "cells": [
  {
   "cell_type": "code",
   "execution_count": null,
   "id": "108e0f6b",
   "metadata": {},
   "outputs": [],
   "source": [
    "from utils import *"
   ]
  },
  {
   "cell_type": "code",
   "execution_count": null,
   "id": "7aa7ac4d",
   "metadata": {},
   "outputs": [],
   "source": [
    "if __name__ == \"__main__\":\n",
    "    # set only these three variables\n",
    "    study_prefix = \"simpl_prmpt\"\n",
    "    llm_model = 'llama3.3' # 'llama3.3', 'qwen3', 'phi4'\n",
    "    prompt_method = 'CoT' # choose between 'CoT' and 'baseline'. For qwen, the baseline itself is COT\n",
    "    embedding_code = 2\n",
    "    comparison_k = 10 \n",
    "    replication_id = 2 # seed\n",
    "    \n",
    "    embedding_choice_dict = {\n",
    "        1: \"mixedbread-ai/mxbai-embed-large-v1\", \n",
    "        2: \"intfloat/e5-large-v2\", \n",
    "        3: \"all-mpnet-base-v2\", \n",
    "        4: \"BAAI/bge-large-en-v1.5\"\n",
    "    }\n",
    "    \n",
    "    # the rest will take care of itself\n",
    "    for object_name in [\"shoe\", \"button\", \"key\", \"wooden_pencil\", \"automobile_tire\"]: \n",
    "        exp_arg = {\n",
    "            'experiment_name': f\"{study_prefix}_{llm_model.replace('.', '_').replace(':', '_')}_{prompt_method}_{object_name}_e{embedding_code}_k{comparison_k}_r{replication_id}\",\n",
    "            'object_name': object_name, \n",
    "            'input_csv_path': f\"input_files/ideas_{object_name}.csv\",\n",
    "            'llm_model': llm_model, \n",
    "            'prompt_method': prompt_method,\n",
    "            'replication_id': replication_id,\n",
    "            'comparison_k': comparison_k,\n",
    "            'save_csvs': True,\n",
    "            'max_attempts':3,\n",
    "            'embedding_model': embedding_choice_dict[embedding_code]\n",
    "        }\n",
    "        run_experiment(exp_arg)"
   ]
  },
  {
   "cell_type": "code",
   "execution_count": null,
   "id": "873be342-4c1f-43c0-ac38-65332f1d6bf7",
   "metadata": {},
   "outputs": [],
   "source": []
  }
 ],
 "metadata": {
  "kernelspec": {
   "display_name": "Python 3 (ipykernel)",
   "language": "python",
   "name": "python3"
  },
  "language_info": {
   "codemirror_mode": {
    "name": "ipython",
    "version": 3
   },
   "file_extension": ".py",
   "mimetype": "text/x-python",
   "name": "python",
   "nbconvert_exporter": "python",
   "pygments_lexer": "ipython3",
   "version": "3.9.21"
  }
 },
 "nbformat": 4,
 "nbformat_minor": 5
}
